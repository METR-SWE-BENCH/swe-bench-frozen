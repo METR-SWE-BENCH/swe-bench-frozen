{
 "cells": [
  {
   "cell_type": "code",
   "execution_count": 1,
   "id": "ec113f8e-56c1-44f7-9571-292c946bb6f1",
   "metadata": {},
   "outputs": [
    {
     "name": "stderr",
     "output_type": "stream",
     "text": [
      "/home/elior/usr/micromamba/envs/swe-bench/lib/python3.9/site-packages/tqdm/auto.py:21: TqdmWarning: IProgress not found. Please update jupyter and ipywidgets. See https://ipywidgets.readthedocs.io/en/stable/user_install.html\n",
      "  from .autonotebook import tqdm as notebook_tqdm\n"
     ]
    }
   ],
   "source": [
    "import glob, json, os, sys\n",
    "\n",
    "os.environ[\"LD_LIBRARY_PATH\"]=\"/home/elior/usr/micromamba/envs/swe-bench/lib/\"\n",
    "#sys.path.append('/path/to/metrics/') # TODO: Replace with path to `SWE-bench/metrics` folder\n",
    "from conversion import convert_log_to_ground_truth\n",
    "from getters import get_logs_gold\n",
    "from monitor import monitor_validation, monitor_logs_same_diff\n",
    "sys.path = sys.path[:-1]\n",
    "\n",
    "#sys.path.append('/path/to/harness/') # TODO: Replace with path to `SWE-bench/harness` folder\n",
    "from utils import has_attribute_or_import_error\n",
    "#sys.path = sys.path[:-1]"
   ]
  },
  {
   "cell_type": "markdown",
   "id": "64e965b7-702e-49d4-bc15-2619dc185752",
   "metadata": {},
   "source": [
    "Declare repository; Fetch tasks, logs"
   ]
  },
  {
   "cell_type": "code",
   "execution_count": 2,
   "id": "9f1e9497-6e60-4027-8cee-790c8d0f1886",
   "metadata": {},
   "outputs": [],
   "source": [
    "repo = 'pytorch/pytorch' # TODO: Replace with repository name\n",
    "log_dir = '/home/elior/work/METR/dev/validation_logs' # TODO: Replace with path to folder of execution logs"
   ]
  },
  {
   "cell_type": "markdown",
   "id": "bba9ae3b-726c-40ec-8ed2-4012fc4f70dc",
   "metadata": {},
   "source": [
    "Get map of version to setup commit"
   ]
  },
  {
   "cell_type": "code",
   "execution_count": 3,
   "id": "daa9d915-da85-4ca0-bba1-cd61ffeef3c0",
   "metadata": {},
   "outputs": [],
   "source": [
    "tasks = json.load(open('/home/elior/work/METR/dev/swe-tasks-datasets/versioned_tasks/pytorch-task-instances_versions.json')) # TODO: Replace with path to versioned candidate task instances\n",
    "tasks = sorted(tasks, key=lambda x: x['created_at'], reverse=True)\n",
    "version_to_setup_commit = {}\n",
    "for t in tasks:\n",
    "    if 'version' in t and t['version'] not in version_to_setup_commit:\n",
    "        version_to_setup_commit[t['version']] = t['base_commit']\n",
    "assert(\n",
    "    sorted(list([x or \"\" for x in version_to_setup_commit.keys()])) ==\n",
    "    sorted(list(set([t['version'] or \"\" for t in tasks if 'version' in t])))\n",
    ")\n",
    "tasks = {t['instance_id']: t for t in tasks}"
   ]
  },
  {
   "cell_type": "code",
   "execution_count": 4,
   "id": "a2e283e8",
   "metadata": {},
   "outputs": [
    {
     "data": {
      "text/plain": [
       "{'pytorch__pytorch-98055': {'repo': 'pytorch/pytorch',\n",
       "  'pull_number': 98055,\n",
       "  'instance_id': 'pytorch__pytorch-98055',\n",
       "  'issue_numbers': ['97737'],\n",
       "  'base_commit': 'c263bd43e8e8502d4726643bc6fd046f0130ac0e',\n",
       "  'patch': 'diff --git a/torch/cuda/amp/autocast_mode.py b/torch/cuda/amp/autocast_mode.py\\n--- a/torch/cuda/amp/autocast_mode.py\\n+++ b/torch/cuda/amp/autocast_mode.py\\n@@ -47,7 +47,7 @@ def _cast(value, dtype):\\n     if isinstance(value, torch.Tensor):\\n         is_eligible = (value.is_floating_point() and value.is_cuda and (value.dtype is not torch.float64))\\n         return value.to(dtype) if is_eligible else value\\n-    elif isinstance(value, str):\\n+    elif isinstance(value, (str, bytes)):\\n         return value\\n     elif HAS_NUMPY and isinstance(value, np.ndarray):\\n         return value\\ndiff --git a/torch/distributed/rendezvous.py b/torch/distributed/rendezvous.py\\n--- a/torch/distributed/rendezvous.py\\n+++ b/torch/distributed/rendezvous.py\\n@@ -90,7 +90,7 @@ def _rendezvous_helper(url: str, rank: int, world_size_opt: Optional[int], **kwa\\n \\n \\n def rendezvous(url: str, rank: int = -1, world_size: int = -1, **kwargs):\\n-    if not isinstance(url, str):\\n+    if not isinstance(url, (str, bytes)):\\n         raise RuntimeError(\"`url` must be a string. {}: {}\".format(type(url), url))\\n \\n     if not isinstance(rank, numbers.Integral):\\ndiff --git a/torch/onnx/_internal/jit_utils.py b/torch/onnx/_internal/jit_utils.py\\n--- a/torch/onnx/_internal/jit_utils.py\\n+++ b/torch/onnx/_internal/jit_utils.py\\n@@ -309,10 +309,8 @@ def _create_node(\\n \\n @_beartype.beartype\\n def _is_onnx_list(value):\\n-    return (\\n-        not isinstance(value, str)\\n-        and not isinstance(value, torch.Tensor)\\n-        and isinstance(value, Iterable)\\n+    return isinstance(value, Iterable) and not isinstance(\\n+        value, (str, bytes, torch.Tensor)\\n     )\\n \\n \\ndiff --git a/torch/serialization.py b/torch/serialization.py\\n--- a/torch/serialization.py\\n+++ b/torch/serialization.py\\n@@ -1078,7 +1078,7 @@ def _get_restore_location(map_location):\\n         def restore_location(storage, location):\\n             location = map_location.get(location, location)\\n             return default_restore_location(storage, location)\\n-    elif isinstance(map_location, str):\\n+    elif isinstance(map_location, (str, bytes)):\\n         def restore_location(storage, location):\\n             return default_restore_location(storage, map_location)\\n     elif isinstance(map_location, torch.device):\\ndiff --git a/torch/utils/data/_utils/collate.py b/torch/utils/data/_utils/collate.py\\n--- a/torch/utils/data/_utils/collate.py\\n+++ b/torch/utils/data/_utils/collate.py\\n@@ -69,7 +69,7 @@ def default_convert(data):\\n         return elem_type(*(default_convert(d) for d in data))\\n     elif isinstance(data, tuple):\\n         return [default_convert(d) for d in data]  # Backwards compatibility.\\n-    elif isinstance(data, collections.abc.Sequence) and not isinstance(data, str):\\n+    elif isinstance(data, collections.abc.Sequence) and not isinstance(data, (str, bytes)):\\n         try:\\n             return elem_type([default_convert(d) for d in data])\\n         except TypeError:\\n@@ -198,6 +198,7 @@ def collate_str_fn(batch, *, collate_fn_map: Optional[Dict[Union[Type, Tuple[Typ\\n default_collate_fn_map[float] = collate_float_fn\\n default_collate_fn_map[int] = collate_int_fn\\n default_collate_fn_map[str] = collate_str_fn\\n+default_collate_fn_map[bytes] = collate_str_fn\\n \\n \\n def default_collate(batch):\\ndiff --git a/torch/utils/data/_utils/pin_memory.py b/torch/utils/data/_utils/pin_memory.py\\n--- a/torch/utils/data/_utils/pin_memory.py\\n+++ b/torch/utils/data/_utils/pin_memory.py\\n@@ -53,7 +53,7 @@ def do_one_step():\\n def pin_memory(data, device=None):\\n     if isinstance(data, torch.Tensor):\\n         return data.pin_memory(device)\\n-    elif isinstance(data, str):\\n+    elif isinstance(data, (str, bytes)):\\n         return data\\n     elif isinstance(data, collections.abc.Mapping):\\n         try:\\ndiff --git a/torch/utils/data/dataloader.py b/torch/utils/data/dataloader.py\\n--- a/torch/utils/data/dataloader.py\\n+++ b/torch/utils/data/dataloader.py\\n@@ -402,8 +402,7 @@ def multiprocessing_context(self, multiprocessing_context):\\n                             (\\'multiprocessing_context option \\'\\n                              \\'should specify a valid start method in {!r}, but got \\'\\n                              \\'multiprocessing_context={!r}\\').format(valid_start_methods, multiprocessing_context))\\n-                    # error: Argument 1 to \"get_context\" has incompatible type \"Union[str, bytes]\"; expected \"str\"  [arg-type]\\n-                    multiprocessing_context = multiprocessing.get_context(multiprocessing_context)  # type: ignore[arg-type]\\n+                    multiprocessing_context = multiprocessing.get_context(multiprocessing_context)\\n \\n                 if not isinstance(multiprocessing_context, python_multiprocessing.context.BaseContext):\\n                     raise TypeError((\\'multiprocessing_context option should be a valid context \\'\\n',\n",
       "  'test_patch': 'diff --git a/test/distributed/test_store.py b/test/distributed/test_store.py\\n--- a/test/distributed/test_store.py\\n+++ b/test/distributed/test_store.py\\n@@ -335,7 +335,7 @@ def __init__(self):\\n         self.store = {}\\n \\n     def set(self, key, value):\\n-        if not isinstance(key, str):\\n+        if not isinstance(key, (str, bytes)):\\n             raise AssertionError(\"Expected set to be called with string key\")\\n         if type(value) is not bytes:\\n             raise AssertionError(\"Expected set to be called with bytes value\")\\ndiff --git a/torch/testing/_internal/common_utils.py b/torch/testing/_internal/common_utils.py\\n--- a/torch/testing/_internal/common_utils.py\\n+++ b/torch/testing/_internal/common_utils.py\\n@@ -1923,7 +1923,7 @@ def compare(self):\\n \\n \\n class StringPair(UnittestPair):\\n-    CLS = str\\n+    CLS = (str, bytes)\\n     TYPE_NAME = \"string\"\\n \\n \\n',\n",
       "  'problem_statement': \"[DataLoader] Short circuit pin_memory recursion when operating on bytes\\nSlack thread: https://pytorch.slack.com/archives/GEEQ2K4MD/p1679962409906099\\r\\n\\r\\nI was seeing some massive (~2x) slowdowns on a job after running it on PyTorch 2.0. From some profiling in `py-spy` it looked like the pin_memory thread was doing a lot more work than before. Looking at a trace in `nsys` I saw the thread doing the forward pass having a bunch of `pthread_cond_timedwait` with GIL reacquire calls in it’s call stack, and it seemed like the thread doing the forward pass was getting blocked (waiting for the GIL) by the pin memory thread (which was holding the GIL).\\r\\n\\r\\nAfter some debugging I found out the issue. If a `bytes` was passed into `pin_memory`, previously in 1.13 (before https://github.com/pytorch/pytorch/pull/94709) it would short-circuit and return here\\r\\nhttps://github.com/pytorch/pytorch/blob/d922c29a22e4bf0fba49526f7536395eb8cd66f4/torch/utils/data/_utils/pin_memory.py#L54-L55\\r\\nsince `bytes` was in `torch._six.string_classes`:\\r\\n```\\r\\n>>> from torch._six import string_classes\\r\\n>>> string_classes\\r\\n(<class 'str'>, <class 'bytes'>)\\r\\n>>>\\r\\n```\\r\\n\\r\\nHowever after https://github.com/pytorch/pytorch/pull/94709, if a `bytes` was passed into `pin_memory` it would fall into here instead\\r\\nhttps://github.com/pytorch/pytorch/blob/c263bd43e8e8502d4726643bc6fd046f0130ac0e/torch/utils/data/_utils/pin_memory.py#L68-L73\\r\\nbecause the previous check is now doing `isinstance(data, str)` instead of `isinstance(data, (str, bytes))`!\\r\\nhttps://github.com/pytorch/pytorch/blob/c263bd43e8e8502d4726643bc6fd046f0130ac0e/torch/utils/data/_utils/pin_memory.py#L56-L57\\r\\n\\r\\nAs a result, `pin_memory` gets called recursively for each element in the `bytes` leading to a ton of wasted recursion. This also explains the slowdown / GIL contention I was seeing.\\r\\n\\r\\nThis PR simply changes `isinstance(data, str)` to `isinstance(data, (str, bytes))` to match the behavior before https://github.com/pytorch/pytorch/pull/94709\\r\\n\\n\",\n",
       "  'hints_text': '',\n",
       "  'created_at': '2023-03-31T02:17:58Z',\n",
       "  'version': '98055',\n",
       "  'version_real': '1.9'}}"
      ]
     },
     "execution_count": 4,
     "metadata": {},
     "output_type": "execute_result"
    }
   ],
   "source": [
    "tasks"
   ]
  },
  {
   "cell_type": "markdown",
   "id": "0994a4a9-fd3d-4554-90b7-24b10c499b8a",
   "metadata": {},
   "source": [
    "#### Monitor Validation"
   ]
  },
  {
   "cell_type": "code",
   "execution_count": 5,
   "id": "c5fcd54c-1a45-41f9-8a9c-64e9ff9df31a",
   "metadata": {},
   "outputs": [
    {
     "name": "stdout",
     "output_type": "stream",
     "text": [
      "Total Attempts: 1\n",
      "Failed: 0\n",
      "Usable: 1\n",
      "Corrupt Test: 0\n",
      "Corrupt Diff: 0\n",
      "Test Script Timeout: 0\n",
      "Success E2E: 1\n"
     ]
    }
   ],
   "source": [
    "failed_install, corrupt_test_patch, corrupt_patch, timeout, success = monitor_validation(log_dir)"
   ]
  },
  {
   "cell_type": "code",
   "execution_count": 6,
   "id": "ecf576b3-22ed-4d8c-a40d-340ae8c56db8",
   "metadata": {},
   "outputs": [
    {
     "name": "stdout",
     "output_type": "stream",
     "text": [
      "Logs same: 1\n",
      "Logs diff: 0\n"
     ]
    }
   ],
   "source": [
    "logs_same, logs_diff = monitor_logs_same_diff(log_dir)\n",
    "print(f\"Logs same: {len(logs_same)}\")\n",
    "print(f\"Logs diff: {len(logs_diff)}\")"
   ]
  },
  {
   "cell_type": "code",
   "execution_count": 12,
   "id": "78a4383e",
   "metadata": {},
   "outputs": [
    {
     "data": {
      "text/plain": [
       "['/home/elior/work/METR/dev/validation_logs/pytorch__pytorch-98055.log']"
      ]
     },
     "execution_count": 12,
     "metadata": {},
     "output_type": "execute_result"
    }
   ],
   "source": [
    "logs_same"
   ]
  },
  {
   "cell_type": "markdown",
   "id": "b81a74a5-c56e-4724-acf5-378b601a2d89",
   "metadata": {},
   "source": [
    "#### Get [FP]2[FP] Tests"
   ]
  },
  {
   "cell_type": "code",
   "execution_count": 19,
   "id": "fb935466-43e8-45a7-8f46-15925d82312b",
   "metadata": {},
   "outputs": [
    {
     "name": "stdout",
     "output_type": "stream",
     "text": [
      "[DEBUG] Received log_fp: /home/elior/work/METR/dev/validation_logs/pytorch__pytorch-98055.log\n",
      "[DEBUG] Save directory: None\n",
      "[DEBUG] Extracted instance file name: pytorch__pytorch-98055.log\n",
      "[DEBUG] Extracted repository from log_fp: pytorch/pytorch\n",
      "[DEBUG] Using log parser for repo 'pytorch/pytorch': <function parse_log_pytest at 0x7e2c9a03fb80>\n",
      "[DEBUG] Log parsing result: found = True\n",
      "[DEBUG] Parsed SMS (before/after): [{'test/distributed/test_store.py::FileStoreTest::test_compare_set': 'PASSED', 'test/distributed/test_store.py::FileStoreTest::test_init_pg_and_rpc_with_same_file': 'PASSED', 'test/distributed/test_store.py::FileStoreTest::test_refcount': 'PASSED', 'test/distributed/test_store.py::FileStoreTest::test_set_get': 'PASSED', 'test/distributed/test_store.py::HashStoreTest::test_compare_set': 'PASSED', 'test/distributed/test_store.py::HashStoreTest::test_set_get': 'PASSED', 'test/distributed/test_store.py::PrefixStoreTest::test_get_underlying_store': 'PASSED', 'test/distributed/test_store.py::PrefixFileStoreTest::test_compare_set': 'PASSED', 'test/distributed/test_store.py::PrefixFileStoreTest::test_set_get': 'PASSED', 'test/distributed/test_store.py::TCPStoreTest::test_address_already_in_use': 'PASSED', 'test/distributed/test_store.py::TCPStoreTest::test_compare_set': 'PASSED', 'test/distributed/test_store.py::TCPStoreTest::test_init_pg_and_rpc_with_same_socket': 'PASSED', 'test/distributed/test_store.py::TCPStoreTest::test_multi_worker_with_fixed_world_size': 'PASSED', 'test/distributed/test_store.py::TCPStoreTest::test_multi_worker_with_nonfixed_world_size': 'PASSED', 'test/distributed/test_store.py::TCPStoreTest::test_multitenancy': 'PASSED', 'test/distributed/test_store.py::TCPStoreTest::test_numkeys_delkeys': 'PASSED', 'test/distributed/test_store.py::TCPStoreTest::test_set_get': 'PASSED', 'test/distributed/test_store.py::PrefixTCPStoreTest::test_compare_set': 'PASSED', 'test/distributed/test_store.py::PrefixTCPStoreTest::test_set_get': 'PASSED', 'test/distributed/test_store.py::PythonStoreTest::test_set_get': 'PASSED', 'test/distributed/test_store.py::RendezvousTest::test_unknown_handler': 'PASSED', 'test/distributed/test_store.py::RendezvousTest::test_url_with_node_params': 'PASSED', 'test/distributed/test_store.py::RendezvousEnvTest::test_nominal': 'PASSED', 'test/distributed/test_store.py::RendezvousFileTest::test_common_errors': 'PASSED', 'test/distributed/test_store.py::RendezvousFileTest::test_nominal': 'PASSED', 'test/distributed/test_store.py::RendezvousTCPTest::test_common_errors': 'PASSED', 'test/distributed/test_store.py::RendezvousTCPTest::test_dns_timeout': 'PASSED', 'test/distributed/test_store.py::RendezvousTCPTest::test_nominal': 'PASSED', 'test/distributed/test_store.py::RendezvousTCPTest::test_tcp_store_timeout_set': 'PASSED'}, {'test/distributed/test_store.py::FileStoreTest::test_compare_set': 'PASSED', 'test/distributed/test_store.py::FileStoreTest::test_init_pg_and_rpc_with_same_file': 'PASSED', 'test/distributed/test_store.py::FileStoreTest::test_refcount': 'PASSED', 'test/distributed/test_store.py::FileStoreTest::test_set_get': 'PASSED', 'test/distributed/test_store.py::HashStoreTest::test_compare_set': 'PASSED', 'test/distributed/test_store.py::HashStoreTest::test_set_get': 'PASSED', 'test/distributed/test_store.py::PrefixStoreTest::test_get_underlying_store': 'PASSED', 'test/distributed/test_store.py::PrefixFileStoreTest::test_compare_set': 'PASSED', 'test/distributed/test_store.py::PrefixFileStoreTest::test_set_get': 'PASSED', 'test/distributed/test_store.py::TCPStoreTest::test_address_already_in_use': 'PASSED', 'test/distributed/test_store.py::TCPStoreTest::test_compare_set': 'PASSED', 'test/distributed/test_store.py::TCPStoreTest::test_init_pg_and_rpc_with_same_socket': 'PASSED', 'test/distributed/test_store.py::TCPStoreTest::test_multi_worker_with_fixed_world_size': 'PASSED', 'test/distributed/test_store.py::TCPStoreTest::test_multi_worker_with_nonfixed_world_size': 'PASSED', 'test/distributed/test_store.py::TCPStoreTest::test_multitenancy': 'PASSED', 'test/distributed/test_store.py::TCPStoreTest::test_numkeys_delkeys': 'PASSED', 'test/distributed/test_store.py::TCPStoreTest::test_set_get': 'PASSED', 'test/distributed/test_store.py::PrefixTCPStoreTest::test_compare_set': 'PASSED', 'test/distributed/test_store.py::PrefixTCPStoreTest::test_set_get': 'PASSED', 'test/distributed/test_store.py::PythonStoreTest::test_set_get': 'PASSED', 'test/distributed/test_store.py::RendezvousTest::test_unknown_handler': 'PASSED', 'test/distributed/test_store.py::RendezvousTest::test_url_with_node_params': 'PASSED', 'test/distributed/test_store.py::RendezvousEnvTest::test_nominal': 'PASSED', 'test/distributed/test_store.py::RendezvousFileTest::test_common_errors': 'PASSED', 'test/distributed/test_store.py::RendezvousFileTest::test_nominal': 'PASSED', 'test/distributed/test_store.py::RendezvousTCPTest::test_common_errors': 'PASSED', 'test/distributed/test_store.py::RendezvousTCPTest::test_dns_timeout': 'PASSED', 'test/distributed/test_store.py::RendezvousTCPTest::test_nominal': 'PASSED', 'test/distributed/test_store.py::RendezvousTCPTest::test_tcp_store_timeout_set': 'PASSED'}]\n",
      "[DEBUG] Test status before change: {'test/distributed/test_store.py::FileStoreTest::test_compare_set': 'PASSED', 'test/distributed/test_store.py::FileStoreTest::test_init_pg_and_rpc_with_same_file': 'PASSED', 'test/distributed/test_store.py::FileStoreTest::test_refcount': 'PASSED', 'test/distributed/test_store.py::FileStoreTest::test_set_get': 'PASSED', 'test/distributed/test_store.py::HashStoreTest::test_compare_set': 'PASSED', 'test/distributed/test_store.py::HashStoreTest::test_set_get': 'PASSED', 'test/distributed/test_store.py::PrefixStoreTest::test_get_underlying_store': 'PASSED', 'test/distributed/test_store.py::PrefixFileStoreTest::test_compare_set': 'PASSED', 'test/distributed/test_store.py::PrefixFileStoreTest::test_set_get': 'PASSED', 'test/distributed/test_store.py::TCPStoreTest::test_address_already_in_use': 'PASSED', 'test/distributed/test_store.py::TCPStoreTest::test_compare_set': 'PASSED', 'test/distributed/test_store.py::TCPStoreTest::test_init_pg_and_rpc_with_same_socket': 'PASSED', 'test/distributed/test_store.py::TCPStoreTest::test_multi_worker_with_fixed_world_size': 'PASSED', 'test/distributed/test_store.py::TCPStoreTest::test_multi_worker_with_nonfixed_world_size': 'PASSED', 'test/distributed/test_store.py::TCPStoreTest::test_multitenancy': 'PASSED', 'test/distributed/test_store.py::TCPStoreTest::test_numkeys_delkeys': 'PASSED', 'test/distributed/test_store.py::TCPStoreTest::test_set_get': 'PASSED', 'test/distributed/test_store.py::PrefixTCPStoreTest::test_compare_set': 'PASSED', 'test/distributed/test_store.py::PrefixTCPStoreTest::test_set_get': 'PASSED', 'test/distributed/test_store.py::PythonStoreTest::test_set_get': 'PASSED', 'test/distributed/test_store.py::RendezvousTest::test_unknown_handler': 'PASSED', 'test/distributed/test_store.py::RendezvousTest::test_url_with_node_params': 'PASSED', 'test/distributed/test_store.py::RendezvousEnvTest::test_nominal': 'PASSED', 'test/distributed/test_store.py::RendezvousFileTest::test_common_errors': 'PASSED', 'test/distributed/test_store.py::RendezvousFileTest::test_nominal': 'PASSED', 'test/distributed/test_store.py::RendezvousTCPTest::test_common_errors': 'PASSED', 'test/distributed/test_store.py::RendezvousTCPTest::test_dns_timeout': 'PASSED', 'test/distributed/test_store.py::RendezvousTCPTest::test_nominal': 'PASSED', 'test/distributed/test_store.py::RendezvousTCPTest::test_tcp_store_timeout_set': 'PASSED'}\n",
      "[DEBUG] Test status after change: {'test/distributed/test_store.py::FileStoreTest::test_compare_set': 'PASSED', 'test/distributed/test_store.py::FileStoreTest::test_init_pg_and_rpc_with_same_file': 'PASSED', 'test/distributed/test_store.py::FileStoreTest::test_refcount': 'PASSED', 'test/distributed/test_store.py::FileStoreTest::test_set_get': 'PASSED', 'test/distributed/test_store.py::HashStoreTest::test_compare_set': 'PASSED', 'test/distributed/test_store.py::HashStoreTest::test_set_get': 'PASSED', 'test/distributed/test_store.py::PrefixStoreTest::test_get_underlying_store': 'PASSED', 'test/distributed/test_store.py::PrefixFileStoreTest::test_compare_set': 'PASSED', 'test/distributed/test_store.py::PrefixFileStoreTest::test_set_get': 'PASSED', 'test/distributed/test_store.py::TCPStoreTest::test_address_already_in_use': 'PASSED', 'test/distributed/test_store.py::TCPStoreTest::test_compare_set': 'PASSED', 'test/distributed/test_store.py::TCPStoreTest::test_init_pg_and_rpc_with_same_socket': 'PASSED', 'test/distributed/test_store.py::TCPStoreTest::test_multi_worker_with_fixed_world_size': 'PASSED', 'test/distributed/test_store.py::TCPStoreTest::test_multi_worker_with_nonfixed_world_size': 'PASSED', 'test/distributed/test_store.py::TCPStoreTest::test_multitenancy': 'PASSED', 'test/distributed/test_store.py::TCPStoreTest::test_numkeys_delkeys': 'PASSED', 'test/distributed/test_store.py::TCPStoreTest::test_set_get': 'PASSED', 'test/distributed/test_store.py::PrefixTCPStoreTest::test_compare_set': 'PASSED', 'test/distributed/test_store.py::PrefixTCPStoreTest::test_set_get': 'PASSED', 'test/distributed/test_store.py::PythonStoreTest::test_set_get': 'PASSED', 'test/distributed/test_store.py::RendezvousTest::test_unknown_handler': 'PASSED', 'test/distributed/test_store.py::RendezvousTest::test_url_with_node_params': 'PASSED', 'test/distributed/test_store.py::RendezvousEnvTest::test_nominal': 'PASSED', 'test/distributed/test_store.py::RendezvousFileTest::test_common_errors': 'PASSED', 'test/distributed/test_store.py::RendezvousFileTest::test_nominal': 'PASSED', 'test/distributed/test_store.py::RendezvousTCPTest::test_common_errors': 'PASSED', 'test/distributed/test_store.py::RendezvousTCPTest::test_dns_timeout': 'PASSED', 'test/distributed/test_store.py::RendezvousTCPTest::test_nominal': 'PASSED', 'test/distributed/test_store.py::RendezvousTCPTest::test_tcp_store_timeout_set': 'PASSED'}\n",
      "[DEBUG] Initialized status_ground_truth dictionary: {'FAIL_TO_PASS': [], 'FAIL_TO_FAIL': [], 'PASS_TO_PASS': [], 'PASS_TO_FAIL': []}\n",
      "[DEBUG] Processing test 'test/distributed/test_store.py::FileStoreTest::test_compare_set' with status 'PASSED'\n",
      "[DEBUG] Test 'test/distributed/test_store.py::FileStoreTest::test_compare_set' moved from PASS to PASS\n",
      "[DEBUG] Processing test 'test/distributed/test_store.py::FileStoreTest::test_init_pg_and_rpc_with_same_file' with status 'PASSED'\n",
      "[DEBUG] Test 'test/distributed/test_store.py::FileStoreTest::test_init_pg_and_rpc_with_same_file' moved from PASS to PASS\n",
      "[DEBUG] Processing test 'test/distributed/test_store.py::FileStoreTest::test_refcount' with status 'PASSED'\n",
      "[DEBUG] Test 'test/distributed/test_store.py::FileStoreTest::test_refcount' moved from PASS to PASS\n",
      "[DEBUG] Processing test 'test/distributed/test_store.py::FileStoreTest::test_set_get' with status 'PASSED'\n",
      "[DEBUG] Test 'test/distributed/test_store.py::FileStoreTest::test_set_get' moved from PASS to PASS\n",
      "[DEBUG] Processing test 'test/distributed/test_store.py::HashStoreTest::test_compare_set' with status 'PASSED'\n",
      "[DEBUG] Test 'test/distributed/test_store.py::HashStoreTest::test_compare_set' moved from PASS to PASS\n",
      "[DEBUG] Processing test 'test/distributed/test_store.py::HashStoreTest::test_set_get' with status 'PASSED'\n",
      "[DEBUG] Test 'test/distributed/test_store.py::HashStoreTest::test_set_get' moved from PASS to PASS\n",
      "[DEBUG] Processing test 'test/distributed/test_store.py::PrefixStoreTest::test_get_underlying_store' with status 'PASSED'\n",
      "[DEBUG] Test 'test/distributed/test_store.py::PrefixStoreTest::test_get_underlying_store' moved from PASS to PASS\n",
      "[DEBUG] Processing test 'test/distributed/test_store.py::PrefixFileStoreTest::test_compare_set' with status 'PASSED'\n",
      "[DEBUG] Test 'test/distributed/test_store.py::PrefixFileStoreTest::test_compare_set' moved from PASS to PASS\n",
      "[DEBUG] Processing test 'test/distributed/test_store.py::PrefixFileStoreTest::test_set_get' with status 'PASSED'\n",
      "[DEBUG] Test 'test/distributed/test_store.py::PrefixFileStoreTest::test_set_get' moved from PASS to PASS\n",
      "[DEBUG] Processing test 'test/distributed/test_store.py::TCPStoreTest::test_address_already_in_use' with status 'PASSED'\n",
      "[DEBUG] Test 'test/distributed/test_store.py::TCPStoreTest::test_address_already_in_use' moved from PASS to PASS\n",
      "[DEBUG] Processing test 'test/distributed/test_store.py::TCPStoreTest::test_compare_set' with status 'PASSED'\n",
      "[DEBUG] Test 'test/distributed/test_store.py::TCPStoreTest::test_compare_set' moved from PASS to PASS\n",
      "[DEBUG] Processing test 'test/distributed/test_store.py::TCPStoreTest::test_init_pg_and_rpc_with_same_socket' with status 'PASSED'\n",
      "[DEBUG] Test 'test/distributed/test_store.py::TCPStoreTest::test_init_pg_and_rpc_with_same_socket' moved from PASS to PASS\n",
      "[DEBUG] Processing test 'test/distributed/test_store.py::TCPStoreTest::test_multi_worker_with_fixed_world_size' with status 'PASSED'\n",
      "[DEBUG] Test 'test/distributed/test_store.py::TCPStoreTest::test_multi_worker_with_fixed_world_size' moved from PASS to PASS\n",
      "[DEBUG] Processing test 'test/distributed/test_store.py::TCPStoreTest::test_multi_worker_with_nonfixed_world_size' with status 'PASSED'\n",
      "[DEBUG] Test 'test/distributed/test_store.py::TCPStoreTest::test_multi_worker_with_nonfixed_world_size' moved from PASS to PASS\n",
      "[DEBUG] Processing test 'test/distributed/test_store.py::TCPStoreTest::test_multitenancy' with status 'PASSED'\n",
      "[DEBUG] Test 'test/distributed/test_store.py::TCPStoreTest::test_multitenancy' moved from PASS to PASS\n",
      "[DEBUG] Processing test 'test/distributed/test_store.py::TCPStoreTest::test_numkeys_delkeys' with status 'PASSED'\n",
      "[DEBUG] Test 'test/distributed/test_store.py::TCPStoreTest::test_numkeys_delkeys' moved from PASS to PASS\n",
      "[DEBUG] Processing test 'test/distributed/test_store.py::TCPStoreTest::test_set_get' with status 'PASSED'\n",
      "[DEBUG] Test 'test/distributed/test_store.py::TCPStoreTest::test_set_get' moved from PASS to PASS\n",
      "[DEBUG] Processing test 'test/distributed/test_store.py::PrefixTCPStoreTest::test_compare_set' with status 'PASSED'\n",
      "[DEBUG] Test 'test/distributed/test_store.py::PrefixTCPStoreTest::test_compare_set' moved from PASS to PASS\n",
      "[DEBUG] Processing test 'test/distributed/test_store.py::PrefixTCPStoreTest::test_set_get' with status 'PASSED'\n",
      "[DEBUG] Test 'test/distributed/test_store.py::PrefixTCPStoreTest::test_set_get' moved from PASS to PASS\n",
      "[DEBUG] Processing test 'test/distributed/test_store.py::PythonStoreTest::test_set_get' with status 'PASSED'\n",
      "[DEBUG] Test 'test/distributed/test_store.py::PythonStoreTest::test_set_get' moved from PASS to PASS\n",
      "[DEBUG] Processing test 'test/distributed/test_store.py::RendezvousTest::test_unknown_handler' with status 'PASSED'\n",
      "[DEBUG] Test 'test/distributed/test_store.py::RendezvousTest::test_unknown_handler' moved from PASS to PASS\n",
      "[DEBUG] Processing test 'test/distributed/test_store.py::RendezvousTest::test_url_with_node_params' with status 'PASSED'\n",
      "[DEBUG] Test 'test/distributed/test_store.py::RendezvousTest::test_url_with_node_params' moved from PASS to PASS\n",
      "[DEBUG] Processing test 'test/distributed/test_store.py::RendezvousEnvTest::test_nominal' with status 'PASSED'\n",
      "[DEBUG] Test 'test/distributed/test_store.py::RendezvousEnvTest::test_nominal' moved from PASS to PASS\n",
      "[DEBUG] Processing test 'test/distributed/test_store.py::RendezvousFileTest::test_common_errors' with status 'PASSED'\n",
      "[DEBUG] Test 'test/distributed/test_store.py::RendezvousFileTest::test_common_errors' moved from PASS to PASS\n",
      "[DEBUG] Processing test 'test/distributed/test_store.py::RendezvousFileTest::test_nominal' with status 'PASSED'\n",
      "[DEBUG] Test 'test/distributed/test_store.py::RendezvousFileTest::test_nominal' moved from PASS to PASS\n",
      "[DEBUG] Processing test 'test/distributed/test_store.py::RendezvousTCPTest::test_common_errors' with status 'PASSED'\n",
      "[DEBUG] Test 'test/distributed/test_store.py::RendezvousTCPTest::test_common_errors' moved from PASS to PASS\n",
      "[DEBUG] Processing test 'test/distributed/test_store.py::RendezvousTCPTest::test_dns_timeout' with status 'PASSED'\n",
      "[DEBUG] Test 'test/distributed/test_store.py::RendezvousTCPTest::test_dns_timeout' moved from PASS to PASS\n",
      "[DEBUG] Processing test 'test/distributed/test_store.py::RendezvousTCPTest::test_nominal' with status 'PASSED'\n",
      "[DEBUG] Test 'test/distributed/test_store.py::RendezvousTCPTest::test_nominal' moved from PASS to PASS\n",
      "[DEBUG] Processing test 'test/distributed/test_store.py::RendezvousTCPTest::test_tcp_store_timeout_set' with status 'PASSED'\n",
      "[DEBUG] Test 'test/distributed/test_store.py::RendezvousTCPTest::test_tcp_store_timeout_set' moved from PASS to PASS\n",
      "[DEBUG] Final status_ground_truth dictionary: {'FAIL_TO_PASS': [], 'FAIL_TO_FAIL': [], 'PASS_TO_PASS': ['test/distributed/test_store.py::FileStoreTest::test_compare_set', 'test/distributed/test_store.py::FileStoreTest::test_init_pg_and_rpc_with_same_file', 'test/distributed/test_store.py::FileStoreTest::test_refcount', 'test/distributed/test_store.py::FileStoreTest::test_set_get', 'test/distributed/test_store.py::HashStoreTest::test_compare_set', 'test/distributed/test_store.py::HashStoreTest::test_set_get', 'test/distributed/test_store.py::PrefixStoreTest::test_get_underlying_store', 'test/distributed/test_store.py::PrefixFileStoreTest::test_compare_set', 'test/distributed/test_store.py::PrefixFileStoreTest::test_set_get', 'test/distributed/test_store.py::TCPStoreTest::test_address_already_in_use', 'test/distributed/test_store.py::TCPStoreTest::test_compare_set', 'test/distributed/test_store.py::TCPStoreTest::test_init_pg_and_rpc_with_same_socket', 'test/distributed/test_store.py::TCPStoreTest::test_multi_worker_with_fixed_world_size', 'test/distributed/test_store.py::TCPStoreTest::test_multi_worker_with_nonfixed_world_size', 'test/distributed/test_store.py::TCPStoreTest::test_multitenancy', 'test/distributed/test_store.py::TCPStoreTest::test_numkeys_delkeys', 'test/distributed/test_store.py::TCPStoreTest::test_set_get', 'test/distributed/test_store.py::PrefixTCPStoreTest::test_compare_set', 'test/distributed/test_store.py::PrefixTCPStoreTest::test_set_get', 'test/distributed/test_store.py::PythonStoreTest::test_set_get', 'test/distributed/test_store.py::RendezvousTest::test_unknown_handler', 'test/distributed/test_store.py::RendezvousTest::test_url_with_node_params', 'test/distributed/test_store.py::RendezvousEnvTest::test_nominal', 'test/distributed/test_store.py::RendezvousFileTest::test_common_errors', 'test/distributed/test_store.py::RendezvousFileTest::test_nominal', 'test/distributed/test_store.py::RendezvousTCPTest::test_common_errors', 'test/distributed/test_store.py::RendezvousTCPTest::test_dns_timeout', 'test/distributed/test_store.py::RendezvousTCPTest::test_nominal', 'test/distributed/test_store.py::RendezvousTCPTest::test_tcp_store_timeout_set'], 'PASS_TO_FAIL': []}\n"
     ]
    }
   ],
   "source": [
    "inst_id_to_gt = {}\n",
    "for d in logs_same:\n",
    "    status_gt = convert_log_to_ground_truth(d,verbose=True)\n",
    "    inst_id_to_gt[d] = status_gt"
   ]
  },
  {
   "cell_type": "code",
   "execution_count": 20,
   "id": "e74f9621",
   "metadata": {},
   "outputs": [
    {
     "data": {
      "text/plain": [
       "{'/home/elior/work/METR/dev/validation_logs/pytorch__pytorch-98055.log': {'FAIL_TO_PASS': [],\n",
       "  'FAIL_TO_FAIL': [],\n",
       "  'PASS_TO_PASS': ['test/distributed/test_store.py::FileStoreTest::test_compare_set',\n",
       "   'test/distributed/test_store.py::FileStoreTest::test_init_pg_and_rpc_with_same_file',\n",
       "   'test/distributed/test_store.py::FileStoreTest::test_refcount',\n",
       "   'test/distributed/test_store.py::FileStoreTest::test_set_get',\n",
       "   'test/distributed/test_store.py::HashStoreTest::test_compare_set',\n",
       "   'test/distributed/test_store.py::HashStoreTest::test_set_get',\n",
       "   'test/distributed/test_store.py::PrefixStoreTest::test_get_underlying_store',\n",
       "   'test/distributed/test_store.py::PrefixFileStoreTest::test_compare_set',\n",
       "   'test/distributed/test_store.py::PrefixFileStoreTest::test_set_get',\n",
       "   'test/distributed/test_store.py::TCPStoreTest::test_address_already_in_use',\n",
       "   'test/distributed/test_store.py::TCPStoreTest::test_compare_set',\n",
       "   'test/distributed/test_store.py::TCPStoreTest::test_init_pg_and_rpc_with_same_socket',\n",
       "   'test/distributed/test_store.py::TCPStoreTest::test_multi_worker_with_fixed_world_size',\n",
       "   'test/distributed/test_store.py::TCPStoreTest::test_multi_worker_with_nonfixed_world_size',\n",
       "   'test/distributed/test_store.py::TCPStoreTest::test_multitenancy',\n",
       "   'test/distributed/test_store.py::TCPStoreTest::test_numkeys_delkeys',\n",
       "   'test/distributed/test_store.py::TCPStoreTest::test_set_get',\n",
       "   'test/distributed/test_store.py::PrefixTCPStoreTest::test_compare_set',\n",
       "   'test/distributed/test_store.py::PrefixTCPStoreTest::test_set_get',\n",
       "   'test/distributed/test_store.py::PythonStoreTest::test_set_get',\n",
       "   'test/distributed/test_store.py::RendezvousTest::test_unknown_handler',\n",
       "   'test/distributed/test_store.py::RendezvousTest::test_url_with_node_params',\n",
       "   'test/distributed/test_store.py::RendezvousEnvTest::test_nominal',\n",
       "   'test/distributed/test_store.py::RendezvousFileTest::test_common_errors',\n",
       "   'test/distributed/test_store.py::RendezvousFileTest::test_nominal',\n",
       "   'test/distributed/test_store.py::RendezvousTCPTest::test_common_errors',\n",
       "   'test/distributed/test_store.py::RendezvousTCPTest::test_dns_timeout',\n",
       "   'test/distributed/test_store.py::RendezvousTCPTest::test_nominal',\n",
       "   'test/distributed/test_store.py::RendezvousTCPTest::test_tcp_store_timeout_set'],\n",
       "  'PASS_TO_FAIL': []}}"
      ]
     },
     "execution_count": 20,
     "metadata": {},
     "output_type": "execute_result"
    }
   ],
   "source": [
    "inst_id_to_gt"
   ]
  },
  {
   "cell_type": "markdown",
   "id": "ccaa7863-f144-49da-ae92-6430841bd3ea",
   "metadata": {},
   "source": [
    "#### Create Task Instances `.json` file"
   ]
  },
  {
   "cell_type": "code",
   "execution_count": 23,
   "id": "44a4dc43-d158-4b3e-b7cd-728954bce188",
   "metadata": {},
   "outputs": [
    {
     "name": "stdout",
     "output_type": "stream",
     "text": [
      "Final number of task instances:  1\n"
     ]
    }
   ],
   "source": [
    "tasks_final = []\n",
    "get_id_from_log = lambda x: x.split('/')[-1].split('.')[0]\n",
    "for k, v in inst_id_to_gt.items():\n",
    "    # if len(v['FAIL_TO_PASS']) == 0:\n",
    "    #     continue\n",
    "    task = tasks[get_id_from_log(k)]\n",
    "    task['FAIL_TO_PASS'] = v['FAIL_TO_PASS']\n",
    "    task['PASS_TO_PASS'] = v['PASS_TO_PASS']\n",
    "    task['environment_setup_commit'] = version_to_setup_commit[task['version']]\n",
    "\n",
    "    # Do not consider tasks where the log before the patch has an attribute/import error\n",
    "    log_path = os.path.join(log_dir, f'{t[\"instance_id\"]}.log')\n",
    "    log_before, log_after = get_logs_gold(log_path)\n",
    "    if has_attribute_or_import_error(log_before):\n",
    "        continue\n",
    "\n",
    "    tasks_final.append(task)\n",
    "print(f\"Final number of task instances: \", len(tasks_final))\n"
   ]
  },
  {
   "cell_type": "code",
   "execution_count": 25,
   "id": "bb7c7b89",
   "metadata": {},
   "outputs": [],
   "source": [
    "\n",
    "SAVE_PATH = \"/home/elior/work/METR/dev/swe-tasks-datasets/validated_tasks/pytorch__pytorch.json\" # TODO: Replace this with a path to a .json file to save the task instances\n",
    "with open(SAVE_PATH, 'w') as f:\n",
    "    json.dump(tasks_final, fp=f)"
   ]
  }
 ],
 "metadata": {
  "kernelspec": {
   "display_name": "Python (SWE-Bench)",
   "language": "python",
   "name": "swe-bench"
  },
  "language_info": {
   "codemirror_mode": {
    "name": "ipython",
    "version": 3
   },
   "file_extension": ".py",
   "mimetype": "text/x-python",
   "name": "python",
   "nbconvert_exporter": "python",
   "pygments_lexer": "ipython3",
   "version": "3.9.19"
  }
 },
 "nbformat": 4,
 "nbformat_minor": 5
}
